{
 "cells": [
  {
   "cell_type": "code",
   "execution_count": 1,
   "id": "0b348895",
   "metadata": {},
   "outputs": [
    {
     "name": "stderr",
     "output_type": "stream",
     "text": [
      "d:\\Daniyal\\llm1\\env\\Lib\\site-packages\\tqdm\\auto.py:21: TqdmWarning: IProgress not found. Please update jupyter and ipywidgets. See https://ipywidgets.readthedocs.io/en/stable/user_install.html\n",
      "  from .autonotebook import tqdm as notebook_tqdm\n"
     ]
    }
   ],
   "source": [
    "import json\n",
    "import pandas as pd\n",
    "from srsly import read_jsonl,read_json,write_jsonl,write_json\n",
    "from os.path import join, exists\n",
    "from tqdm.auto import tqdm"
   ]
  },
  {
   "cell_type": "code",
   "execution_count": 2,
   "id": "b5c4007d",
   "metadata": {},
   "outputs": [],
   "source": [
    "prompt_dict = read_json(join(\"..\",'prompts','prompt_rachel_v4.json'))"
   ]
  },
  {
   "cell_type": "code",
   "execution_count": 3,
   "id": "15a266ea",
   "metadata": {},
   "outputs": [],
   "source": [
    "def build_prompt_from_dict(prompt_dict):\n",
    "    \"\"\"\n",
    "    Builds a prompt string directly from a dictionary object,\n",
    "    without examples and input text.\n",
    "\n",
    "    Args:\n",
    "        prompt_dict (dict): A dictionary containing the prompt components.\n",
    "            Expected keys: 'system_prompt', 'query', 'instructions',\n",
    "            'format_instruction'.\n",
    "\n",
    "    Returns:\n",
    "        str: The complete prompt string.\n",
    "    \"\"\"\n",
    "    system_prompt = prompt_dict.get('system_prompt', '')\n",
    "    query = prompt_dict.get('query', '')\n",
    "    instructions = prompt_dict.get('instructions', [])\n",
    "    format_instruction = prompt_dict.get('format_instruction', '')\n",
    "\n",
    "    prompt_string = \"\"\n",
    "    if system_prompt:\n",
    "        prompt_string += f\"System Prompt: {system_prompt}\\n\\n\"\n",
    "    if query:\n",
    "        prompt_string += f\"Query: {query}\\n\\n\"\n",
    "    if instructions:\n",
    "        prompt_string += \"Instructions:\\n\"\n",
    "        for instruction in instructions:\n",
    "            prompt_string += f\"- {instruction}\\n\"\n",
    "        prompt_string += \"\\n\"\n",
    "    if format_instruction:\n",
    "        prompt_string += f\"Format Instruction: {format_instruction}\\n\\n\"\n",
    "        \n",
    "    return prompt_string\n"
   ]
  },
  {
   "cell_type": "code",
   "execution_count": 4,
   "id": "df160f03",
   "metadata": {},
   "outputs": [
    {
     "name": "stdout",
     "output_type": "stream",
     "text": [
      "System Prompt: You are a helpful and accurate information extraction assistant.\n",
      "\n",
      "Query: From the following medical text extract the following details: 1. identify whether any diagnosis from our list of Rheumatic Diseases is confirmed for the patient in the text 2. extract the specific words that indicate the diagnosis.\n",
      "\n",
      "Instructions:\n",
      "- The list of Rheumatic Diseases that you need to identify diagnoses for includes: 'Rheumatoid arthritis'\n",
      "- Focus on identifying diagnoses that are confirmed by the physician.\n",
      "- - Consider a diagnosis as set, even when the physician states it is a working diagnosis.\n",
      "- - Do not consider the diagnosis as confirmed when the physician describes it as probable or likely.\n",
      "- - Do not consider the diagnosis as confirmed when the physician describes it a differential diagnosis (dd).\n",
      "- - Do not consider the diagnosis as confirmed when the physician describes it in conjunction with another overlapping diagnosis or when it is stated as a mixed clinical picture.\n",
      "- - A previous or historic rheumatic disease diagnosis should also be considered as a confirmed diagnosis.\n",
      "- - If the physician rejects a previous diagnosis, it nullifies the earlier diagnosis.\n",
      "- Provide a confidence_level rating (0-10) for the likelihood of the diagnosis being confirmed, where 10 is the highest confidence and 0 is the lowest.  Consider factors such as the clarity and explicitness of the diagnosis in the text.\n",
      "- If the target diagnosis is not confirmed, indicate 'none' in the output.\n",
      "\n",
      "Format Instruction: The output should be in a json key:value format with the following keys:\n",
      "    - \"diagnosis\": (string) The span of text that describes the target diagnosis, or \"none\" if not found.\n",
      "    - \"is_diagnosis_given\": (int) 1 if the target diagnosis is explicitly given and confirmed, 0 if it is not explicit or if it is not the target diagnosis.\n",
      "    - \"confidence_level\": (integer) A confidence rating between 0 and 10, inclusive.\n",
      "\n",
      "\n"
     ]
    }
   ],
   "source": [
    "print(build_prompt_from_dict(prompt_dict))"
   ]
  },
  {
   "cell_type": "code",
   "execution_count": 5,
   "id": "495422e7",
   "metadata": {},
   "outputs": [],
   "source": [
    "def build_llm_prompt(sample_prompt: dict, examples: list = None, input: str = None) -> str:\n",
    "    \"\"\"\n",
    "    Reads a sample prompt and examples from JSON files and builds a prompt for an LLM.\n",
    "\n",
    "    Args:\n",
    "        sample_prompt_path: The path to the JSON file containing the sample prompt.\n",
    "        examples_path: The path to the JSON file containing the examples.\n",
    "\n",
    "    Returns:\n",
    "        A string containing the formatted LLM prompt.  Returns an error message\n",
    "        string if there are file errors.\n",
    "    \"\"\"\n",
    "    # try:\n",
    "    #     sample_prompt = read_json(sample_prompt_path)\n",
    "    # except FileNotFoundError:\n",
    "    #     return f\"Error: Sample prompt file not found at {sample_prompt_path}\"\n",
    "    # except json.JSONDecodeError:\n",
    "    #     return f\"Error: Could not decode JSON from sample prompt file at {sample_prompt_path}\"\n",
    "\n",
    "    # try:\n",
    "    #     examples = read_json(examples_path)\n",
    "    # except FileNotFoundError:\n",
    "    #     return f\"Error: Examples file not found at {examples_path}\"\n",
    "    # except json.JSONDecodeError:\n",
    "    #     return f\"Error: Could not decode JSON from examples file at {examples_path}\"\n",
    "\n",
    "    prompt = sample_prompt['system_prompt'] + \"\\n\\n\"\n",
    "    prompt +=  sample_prompt['query'] + \"\\n\\n\"\n",
    "    # prompt += \"Instructions:\\n\"\n",
    "    for instruction in sample_prompt['instructions']:\n",
    "        prompt += \"- \" + instruction + \"\\n\\n\"\n",
    "        \n",
    "    if examples is not None:\n",
    "\n",
    "        prompt += \"Here are some examples for text that do or do not contain explicit rhuematic disease diagnosis:\\n\"\n",
    "        for example in examples:\n",
    "            prompt += example + \"\\n\"\n",
    "            \n",
    "    prompt += \"\\n\" + sample_prompt['format_instruction'] + \"\\n\\n\"\n",
    "    \n",
    "    \n",
    "    \n",
    "    if input is not None:\n",
    "    \n",
    "        prompt += \"\\nMedical text: \" + input + \"\\n\"\n",
    "\n",
    "    return prompt"
   ]
  },
  {
   "cell_type": "code",
   "execution_count": 7,
   "id": "6598869e",
   "metadata": {},
   "outputs": [],
   "source": [
    "from ollama import chat"
   ]
  },
  {
   "cell_type": "code",
   "execution_count": 8,
   "id": "6c939190",
   "metadata": {},
   "outputs": [],
   "source": [
    "model = \"deepseek-r1:32b\""
   ]
  },
  {
   "cell_type": "code",
   "execution_count": 9,
   "id": "a8fddf64",
   "metadata": {},
   "outputs": [],
   "source": [
    "import re\n",
    "import json\n",
    "def extract_results(llm_output, think_token=r'</think>'):\n",
    "    think = llm_output.split(think_token)\n",
    "    output = think[1].strip()\n",
    "    think = think[0].strip()\n",
    "    \n",
    "\n",
    "    # Remove the backticks and potential \"json\" prefix\n",
    "    # cleaned_string = output.replace('```', '').replace('json', '').strip()\n",
    "    data_dictionary = {}\n",
    "    match = re.search(r'\\{(.*?)\\}', output, re.DOTALL)\n",
    "\n",
    "    if match:\n",
    "        json_string = \"{\" + match.group(1) + \"}\"\n",
    "        try:\n",
    "            data_dictionary = json.loads(json_string)\n",
    "            # print(data_dictionary)\n",
    "        except json.JSONDecodeError as e:\n",
    "            print(f\"Error decoding JSON: {e}\")\n",
    "            print(\"Could not parse the following JSON string:\", json_string)\n",
    "    else:\n",
    "        print(\"No JSON object found at the end of the string.\")\n",
    "        \n",
    "   \n",
    "    data_dictionary['output'] = output \n",
    "    data_dictionary['think'] = think\n",
    "    return data_dictionary"
   ]
  },
  {
   "cell_type": "code",
   "execution_count": 10,
   "id": "50dba183",
   "metadata": {},
   "outputs": [],
   "source": [
    "sample = \"1 . oligo - artritis van beide polsen bij bekende seropositieve ra , dd activiteit ra , inflammatoire ( secundaire ) artrose \""
   ]
  },
  {
   "cell_type": "code",
   "execution_count": 11,
   "id": "b6204a26",
   "metadata": {},
   "outputs": [],
   "source": [
    "prompt = build_llm_prompt(prompt_dict,input = sample)"
   ]
  },
  {
   "cell_type": "code",
   "execution_count": 13,
   "id": "a1c2b554",
   "metadata": {},
   "outputs": [
    {
     "name": "stdout",
     "output_type": "stream",
     "text": [
      "You are a helpful and accurate information extraction assistant.\n",
      "\n",
      "From the following medical text extract the following details: 1. identify whether any diagnosis from our list of Rheumatic Diseases is confirmed for the patient in the text 2. extract the specific words that indicate the diagnosis.\n",
      "\n",
      "- The list of Rheumatic Diseases that you need to identify diagnoses for includes: 'Rheumatoid arthritis'\n",
      "\n",
      "- Focus on identifying diagnoses that are confirmed by the physician.\n",
      "\n",
      "- - Consider a diagnosis as set, even when the physician states it is a working diagnosis.\n",
      "\n",
      "- - Do not consider the diagnosis as confirmed when the physician describes it as probable or likely.\n",
      "\n",
      "- - Do not consider the diagnosis as confirmed when the physician describes it a differential diagnosis (dd).\n",
      "\n",
      "- - Do not consider the diagnosis as confirmed when the physician describes it in conjunction with another overlapping diagnosis or when it is stated as a mixed clinical picture.\n",
      "\n",
      "- - A previous or historic rheumatic disease diagnosis should also be considered as a confirmed diagnosis.\n",
      "\n",
      "- - If the physician rejects a previous diagnosis, it nullifies the earlier diagnosis.\n",
      "\n",
      "- Provide a confidence_level rating (0-10) for the likelihood of the diagnosis being confirmed, where 10 is the highest confidence and 0 is the lowest.  Consider factors such as the clarity and explicitness of the diagnosis in the text.\n",
      "\n",
      "- If the target diagnosis is not confirmed, indicate 'none' in the output.\n",
      "\n",
      "\n",
      "The output should be in a json key:value format with the following keys:\n",
      "    - \"diagnosis\": (string) The span of text that describes the target diagnosis, or \"none\" if not found.\n",
      "    - \"is_diagnosis_given\": (int) 1 if the target diagnosis is explicitly given and confirmed, 0 if it is not explicit or if it is not the target diagnosis.\n",
      "    - \"confidence_level\": (integer) A confidence rating between 0 and 10, inclusive.\n",
      "\n",
      "\n",
      "Medical text: 1 . oligo - artritis van beide polsen bij bekende seropositieve ra , dd activiteit ra , inflammatoire ( secundaire ) artrose \n",
      "\n"
     ]
    }
   ],
   "source": [
    "print(prompt)"
   ]
  },
  {
   "cell_type": "code",
   "execution_count": 14,
   "id": "c940fdd9",
   "metadata": {},
   "outputs": [],
   "source": [
    "from ollama import generate"
   ]
  },
  {
   "cell_type": "code",
   "execution_count": null,
   "id": "a62689de",
   "metadata": {},
   "outputs": [],
   "source": [
    "prompt = build_llm_prompt(prompt_dict,sample)\n"
   ]
  },
  {
   "cell_type": "code",
   "execution_count": null,
   "id": "6862824d",
   "metadata": {},
   "outputs": [],
   "source": [
    "sample_response = generate(model=model, prompt=prompt# Combine prompt and input\n",
    "        )"
   ]
  },
  {
   "cell_type": "code",
   "execution_count": null,
   "id": "c8ee353f",
   "metadata": {},
   "outputs": [
    {
     "data": {
      "text/plain": [
       "{'diagnosis': 'none',\n",
       " 'is_diagnosis_given': 0,\n",
       " 'confidence_level': 3,\n",
       " 'output': 'The text mentions \\'seropositive RA\\' but in a context that suggests it\\'s part of a differential diagnosis. Additionally, it references secondary inflammatory osteoarthritis, which complicates the confirmation of Rheumatoid Arthritis.\\n\\n```json\\n{\\n    \"diagnosis\": \"none\",\\n    \"is_diagnosis_given\": 0,\\n    \"confidence_level\": 3\\n}\\n```',\n",
       " 'think': \"<think>\\nOkay, I need to help extract information from a medical text. The task is to check if 'Rheumatoid arthritis' is confirmed as a diagnosis. Let me go through the steps carefully.\\n\\nFirst, I read the instructions again. I have to look for any mention of Rheumatic Diseases, specifically checking if 'Rheumatoid arthritis' is confirmed. The confirmation can be even if it's a working diagnosis but not if it's probable, likely, differential, or part of another condition. Also, previous diagnoses count unless rejected.\\n\\nLooking at the provided text, I see words like oligoarthritis, van been, polsen bij, bekannde seropositive ra, dd activiteit ra, inflammatoire (secundaire) artrose. I need to translate and understand these terms. \\n\\n'Oligoarthritis' might be a type of arthritis but not necessarily Rheumatoid Arthritis. 'Seropositive RA' stands out because 'RA' usually refers to Rheumatoid Arthritis. However, the term is in parentheses with 'dd activiteit ra', which might indicate it's part of a differential diagnosis (since dd often means differential). \\n\\nThe text also mentions 'inflammatoire (secundaire) artrose', which translates to secondary inflammatory osteoarthritis. This suggests another condition alongside RA or instead of it.\\n\\nSo, the key points are:\\n1. 'seropositive ra' is mentioned but in a context that might be differential.\\n2. The presence of 'dd activiteit ra' implies it's being considered as a possibility rather than confirmed.\\n3. There's mention of another condition (secondary osteoarthritis), which complicates the picture.\\n\\nTherefore, since RA is mentioned with differential terms and alongside another diagnosis, I can't confirm it as set. So, the diagnosis isn't explicitly confirmed here.\"}"
      ]
     },
     "execution_count": 18,
     "metadata": {},
     "output_type": "execute_result"
    }
   ],
   "source": [
    "extract_results(sample_response.response)"
   ]
  }
 ],
 "metadata": {
  "kernelspec": {
   "display_name": "env (3.12.9)",
   "language": "python",
   "name": "python3"
  },
  "language_info": {
   "codemirror_mode": {
    "name": "ipython",
    "version": 3
   },
   "file_extension": ".py",
   "mimetype": "text/x-python",
   "name": "python",
   "nbconvert_exporter": "python",
   "pygments_lexer": "ipython3",
   "version": "3.12.9"
  }
 },
 "nbformat": 4,
 "nbformat_minor": 5
}
